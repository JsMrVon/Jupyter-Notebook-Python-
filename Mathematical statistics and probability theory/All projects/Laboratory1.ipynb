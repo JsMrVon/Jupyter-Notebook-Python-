{
 "cells": [
  {
   "cell_type": "code",
   "execution_count": 1,
   "metadata": {},
   "outputs": [],
   "source": [
    "import sympy\n",
    "from sympy import *\n",
    "from IPython.display import display, Math, Latex\n",
    "import matplotlib.pyplot as plt\n",
    "from sympy.plotting import plot\n",
    "init_printing() #LaTeX формат"
   ]
  },
  {
   "cell_type": "markdown",
   "metadata": {},
   "source": [
    "# Разлел 1 № 1(2,5,7); 3(1,2); 4; 6; 8(1,2);"
   ]
  },
  {
   "cell_type": "markdown",
   "metadata": {},
   "source": [
    "## №1(2,5,7). Найдите все корни следующих многочленов:\n",
    "* $ 2x^3 − 13x^2 − 4x + 60 $\n",
    "* $ x^5 − x^4 − 15x^3 + x^2 + 38x + 24 $\n",
    "* $ 10x^5 − 30x + 10 $"
   ]
  },
  {
   "cell_type": "code",
   "execution_count": 2,
   "metadata": {},
   "outputs": [],
   "source": [
    "x = Symbol('x')"
   ]
  },
  {
   "cell_type": "code",
   "execution_count": 3,
   "metadata": {},
   "outputs": [
    {
     "data": {
      "image/png": "[encoded data removed]",
      "text/latex": [
       "$\\displaystyle 2 x^{3} - 13 x^{2} - 4 x + 60$"
      ],
      "text/plain": [
       "   3       2           \n",
       "2⋅x  - 13⋅x  - 4⋅x + 60"
      ]
     },
     "metadata": {},
     "output_type": "display_data"
    },
    {
     "data": {
      "image/png": "[encoded data removed]",
      "text/latex": [
       "$\\displaystyle \\left[ -2, \\  \\frac{5}{2}, \\  6\\right]$"
      ],
      "text/plain": [
       "[-2, 5/2, 6]"
      ]
     },
     "execution_count": 3,
     "metadata": {},
     "output_type": "execute_result"
    }
   ],
   "source": [
    "display(2*x**3 - 13*x**2 - 4*x + 60)\n",
    "solve(2*x**3 - 13*x**2 - 4*x + 60, x)"
   ]
  },
  {
   "cell_type": "code",
   "execution_count": 4,
   "metadata": {},
   "outputs": [
    {
     "data": {
      "image/png": "[encoded data removed]",
      "text/latex": [
       "$\\displaystyle x^{5} - x^{4} - 15 x^{3} + x^{2} + 38 x + 24$"
      ],
      "text/plain": [
       " 5    4       3    2            \n",
       "x  - x  - 15⋅x  + x  + 38⋅x + 24"
      ]
     },
     "metadata": {},
     "output_type": "display_data"
    },
    {
     "data": {
      "image/png": "[encoded data removed]",
      "text/latex": [
       "$\\displaystyle \\left[ -3, \\  -1, \\  2, \\  4\\right]$"
      ],
      "text/plain": [
       "[-3, -1, 2, 4]"
      ]
     },
     "execution_count": 4,
     "metadata": {},
     "output_type": "execute_result"
    }
   ],
   "source": [
    "display(x**5 - x**4 - 15*x**3 + x**2 + 38*x + 24)\n",
    "solve(x**5 - x**4 - 15*x**3 + x**2 + 38*x + 24, x)"
   ]
  },
  {
   "cell_type": "code",
   "execution_count": 5,
   "metadata": {},
   "outputs": [
    {
     "data": {
      "image/png": "[encoded data removed]",
      "text/latex": [
       "$\\displaystyle 10 x^{5} - 30 x + 10$"
      ],
      "text/plain": [
       "    5            \n",
       "10⋅x  - 30⋅x + 10"
      ]
     },
     "metadata": {},
     "output_type": "display_data"
    },
    {
     "name": "stdout",
     "output_type": "stream",
     "text": [
      "Корни данного многочлена - иррациональны.\n"
     ]
    },
    {
     "data": {
      "image/png": "[encoded data removed]",
      "text/latex": [
       "$\\displaystyle \\left[ -1.38879198440725, \\  0.334734141943353, \\  1.21464804269846, \\  -0.0802951001172802 - 1.32835510982065 i, \\  -0.0802951001172802 + 1.32835510982065 i\\right]$"
      ],
      "text/plain": [
       "[-1.38879198440725, 0.334734141943353, 1.21464804269846, -0.0802951001172802 -\n",
       " 1.32835510982065⋅ⅈ, -0.0802951001172802 + 1.32835510982065⋅ⅈ]"
      ]
     },
     "metadata": {},
     "output_type": "display_data"
    }
   ],
   "source": [
    "display(10*x**5 - 30*x + 10)\n",
    "print(\"Корни данного многочлена - иррациональны.\")\n",
    "display([N(i) for i in solve(10*x**5 - 30*x + 10, x)])"
   ]
  },
  {
   "cell_type": "markdown",
   "metadata": {},
   "source": [
    "## №3(1,2). Решите уравнения:\n",
    "* $ 16x^5 − 20x^3 + 5x = 1 $\n",
    "* $ 32x^6 − 48x^4 + 18x^2 = 1 $"
   ]
  },
  {
   "cell_type": "code",
   "execution_count": 6,
   "metadata": {},
   "outputs": [
    {
     "data": {
      "image/png": "[encoded data removed]",
      "text/latex": [
       "$\\displaystyle 16 x^{5} - 20 x^{3} + 5 x = 1$"
      ],
      "text/plain": [
       "    5       3          \n",
       "16⋅x  - 20⋅x  + 5⋅x = 1"
      ]
     },
     "metadata": {},
     "output_type": "display_data"
    },
    {
     "data": {
      "image/png": "[encoded data removed]",
      "text/latex": [
       "$\\displaystyle \\left[ 1, \\  - \\frac{1}{4} + \\frac{\\sqrt{5}}{4}, \\  - \\frac{\\sqrt{5}}{4} - \\frac{1}{4}\\right]$"
      ],
      "text/plain": [
       "⎡     1   √5    √5   1⎤\n",
       "⎢1, - ─ + ──, - ── - ─⎥\n",
       "⎣     4   4     4    4⎦"
      ]
     },
     "execution_count": 6,
     "metadata": {},
     "output_type": "execute_result"
    }
   ],
   "source": [
    "eq = Eq(16*x**5 - 20*x**3 + 5*x, 1)\n",
    "display(eq)\n",
    "solve(eq, x)"
   ]
  },
  {
   "cell_type": "code",
   "execution_count": 7,
   "metadata": {},
   "outputs": [
    {
     "data": {
      "image/png": "[encoded data removed]",
      "text/latex": [
       "$\\displaystyle 32 x^{6} - 48 x^{4} + 18 x^{2} = 1$"
      ],
      "text/plain": [
       "    6       4       2    \n",
       "32⋅x  - 48⋅x  + 18⋅x  = 1"
      ]
     },
     "metadata": {},
     "output_type": "display_data"
    },
    {
     "data": {
      "image/png": "[encoded data removed]",
      "text/latex": [
       "$\\displaystyle \\left[ - \\frac{\\sqrt{2}}{2}, \\  \\frac{\\sqrt{2}}{2}, \\  - \\sqrt{\\frac{1}{2} - \\frac{\\sqrt{3}}{4}}, \\  \\sqrt{\\frac{1}{2} - \\frac{\\sqrt{3}}{4}}, \\  - \\sqrt{\\frac{\\sqrt{3}}{4} + \\frac{1}{2}}, \\  \\sqrt{\\frac{\\sqrt{3}}{4} + \\frac{1}{2}}\\right]$"
      ],
      "text/plain": [
       "⎡               ________      ________       ________      ________⎤\n",
       "⎢-√2   √2      ╱ 1   √3      ╱ 1   √3       ╱ √3   1      ╱ √3   1 ⎥\n",
       "⎢────, ──, -  ╱  ─ - ── ,   ╱  ─ - ── , -  ╱  ── + ─ ,   ╱  ── + ─ ⎥\n",
       "⎣ 2    2    ╲╱   2   4    ╲╱   2   4     ╲╱   4    2   ╲╱   4    2 ⎦"
      ]
     },
     "metadata": {},
     "output_type": "display_data"
    }
   ],
   "source": [
    "eq = Eq(32*x**6 - 48*x**4 + 18*x**2, 1)\n",
    "display(eq)\n",
    "Result = solve(eq, x)\n",
    "display(Result)"
   ]
  },
  {
   "cell_type": "markdown",
   "metadata": {},
   "source": [
    "## №4\n",
    "Найдите все решения уравнения \n",
    "$\n",
    "sin(x) = x - \\frac{x^3}{6}\n",
    "$\n",
    "\n",
    "Кстати, какова кратность\n",
    "очевидного корня $ x = 0 $ ?\n",
    "\n",
    "Попробуйте воспользоваться командой series (или\n",
    "taylor) для разложения выражения в степенной ряд и командами convert, factor.\n",
    "\n",
    "А что, если уравнение будет иметь вид\n",
    "$\n",
    "sin(x) = 2x + \\frac{x^3}{6}\n",
    "$\n",
    "?"
   ]
  },
  {
   "cell_type": "code",
   "execution_count": 8,
   "metadata": {},
   "outputs": [
    {
     "data": {
      "image/png": "[encoded data removed]",
      "text/latex": [
       "$\\displaystyle \\sin{\\left(x \\right)} = - \\frac{x^{3}}{6} + x$"
      ],
      "text/plain": [
       "            3    \n",
       "           x     \n",
       "sin(x) = - ── + x\n",
       "           6     "
      ]
     },
     "metadata": {},
     "output_type": "display_data"
    },
    {
     "data": {
      "image/png": "[encoded data removed]",
      "text/latex": [
       "$\\displaystyle \\left\\{x \\mid x \\in \\mathbb{C} \\wedge x - x + \\frac{x^{3}}{6} - \\frac{x^{3}}{6} + \\frac{x^{5}}{120} + O\\left(x^{6}\\right) = 0 \\right\\}$"
      ],
      "text/plain": [
       "⎧                     3    3     5            ⎫\n",
       "⎪                    x    x     x     ⎛ 6⎞    ⎪\n",
       "⎨x | x ∊ ℂ ∧ x - x + ── - ── + ─── + O⎝x ⎠ = 0⎬\n",
       "⎪                    6    6    120            ⎪\n",
       "⎩                                             ⎭"
      ]
     },
     "execution_count": 8,
     "metadata": {},
     "output_type": "execute_result"
    }
   ],
   "source": [
    "eq = Eq(sin(x), x - x**3/6)\n",
    "display(eq)\n",
    "eq = Eq(sin(x).series(), x - x**3/6)\n",
    "solveset(eq, x)"
   ]
  },
  {
   "cell_type": "markdown",
   "metadata": {},
   "source": [
    "## №6\n",
    "Сколько решений имеет следующая система в зависимости от значения параметра a:  \n",
    "$ x^2 + y^2 = 1$  \n",
    "$x + y = a$?  \n",
    "Указание: Постройте графики для двух уравнений в плоскости x0y, используя\n",
    "функцию implicitplot.  \n",
    "Решите систему для $a = 0$, $a = 0.5$, $a = 1$, $a = 2$. Угадайте ответ. Проверьте его."
   ]
  },
  {
   "cell_type": "code",
   "execution_count": 9,
   "metadata": {
    "scrolled": true
   },
   "outputs": [
    {
     "name": "stdout",
     "output_type": "stream",
     "text": [
      "a = 0\n"
     ]
    },
    {
     "data": {
      "image/png": "[encoded data removed]",
      "text/latex": [
       "$\\displaystyle \\left[ \\left( - \\frac{\\sqrt{2}}{2}, \\  \\frac{\\sqrt{2}}{2}\\right), \\  \\left( \\frac{\\sqrt{2}}{2}, \\  - \\frac{\\sqrt{2}}{2}\\right)\\right]$"
      ],
      "text/plain": [
       "⎡⎛-√2   √2⎞  ⎛√2  -√2 ⎞⎤\n",
       "⎢⎜────, ──⎟, ⎜──, ────⎟⎥\n",
       "⎣⎝ 2    2 ⎠  ⎝2    2  ⎠⎦"
      ]
     },
     "metadata": {},
     "output_type": "display_data"
    },
    {
     "name": "stdout",
     "output_type": "stream",
     "text": [
      "a = 0.5\n"
     ]
    },
    {
     "data": {
      "image/png": "[encoded data removed]",
      "text/latex": [
       "$\\displaystyle \\left[ \\left( -0.411437827766148, \\  0.911437827766148\\right), \\  \\left( 0.911437827766148, \\  -0.411437827766148\\right)\\right]$"
      ],
      "text/plain": [
       "[(-0.411437827766148, 0.911437827766148), (0.911437827766148, -0.4114378277661\n",
       "48)]"
      ]
     },
     "metadata": {},
     "output_type": "display_data"
    },
    {
     "name": "stdout",
     "output_type": "stream",
     "text": [
      "a = 1\n"
     ]
    },
    {
     "data": {
      "image/png": "[encoded data removed]",
      "text/latex": [
       "$\\displaystyle \\left[ \\left( 0, \\  1\\right), \\  \\left( 1, \\  0\\right)\\right]$"
      ],
      "text/plain": [
       "[(0, 1), (1, 0)]"
      ]
     },
     "metadata": {},
     "output_type": "display_data"
    },
    {
     "name": "stdout",
     "output_type": "stream",
     "text": [
      "a = 2\n"
     ]
    },
    {
     "data": {
      "image/png": "[encoded data removed]",
      "text/latex": [
       "$\\displaystyle \\left[ \\left( 1 - \\frac{\\sqrt{2} i}{2}, \\  1 + \\frac{\\sqrt{2} i}{2}\\right), \\  \\left( 1 + \\frac{\\sqrt{2} i}{2}, \\  1 - \\frac{\\sqrt{2} i}{2}\\right)\\right]$"
      ],
      "text/plain": [
       "⎡⎛    √2⋅ⅈ      √2⋅ⅈ⎞  ⎛    √2⋅ⅈ      √2⋅ⅈ⎞⎤\n",
       "⎢⎜1 - ────, 1 + ────⎟, ⎜1 + ────, 1 - ────⎟⎥\n",
       "⎣⎝     2         2  ⎠  ⎝     2         2  ⎠⎦"
      ]
     },
     "metadata": {},
     "output_type": "display_data"
    }
   ],
   "source": [
    "x, y = symbols('x y')\n",
    "a = 0\n",
    "system = [x**2 + y**2 - 1, x + y - a]\n",
    "print(\"a = 0\")\n",
    "display(solve(system, [x, y]))\n",
    "print(\"a = 0.5\")\n",
    "a = 0.5\n",
    "system = [x**2 + y**2 - 1, x + y - a]\n",
    "display(solve(system, [x, y]))\n",
    "print(\"a = 1\")\n",
    "a = 1\n",
    "system = [x**2 + y**2 - 1, x + y - a]\n",
    "display(solve(system, [x, y]))\n",
    "print(\"a = 2\")\n",
    "a = 2\n",
    "system = [x**2 + y**2 - 1, x + y - a]\n",
    "display(solve(system, [x, y]))"
   ]
  },
  {
   "cell_type": "code",
   "execution_count": 10,
   "metadata": {},
   "outputs": [
    {
     "name": "stdout",
     "output_type": "stream",
     "text": [
      "a = 0\n"
     ]
    },
    {
     "data": {
      "image/png": "[encoded data removed]",
      "text/plain": [
       "<Figure size 432x288 with 1 Axes>"
      ]
     },
     "metadata": {
      "needs_background": "light"
     },
     "output_type": "display_data"
    }
   ],
   "source": [
    "a = 0\n",
    "plot = plot_implicit(x**2 + y**2 - 1,(x, -2, 2), (y, -2, 2), show = False)\n",
    "plot2 = plot_implicit(x + y - a, show = False)\n",
    "plot.extend(plot2)\n",
    "print(\"a = \" + str(a))\n",
    "plot.show()"
   ]
  },
  {
   "cell_type": "markdown",
   "metadata": {},
   "source": [
    "## №8(1,2)  \n",
    "Решите неравенства:\n",
    "* $2ln(x^2 - 3) < 3 - ln(x^2 - 3)^2$\n",
    "* $x^4 + 3x^3 - 10x^2 - 32x - 99 ≤ 57x^5 - 24x + 95$"
   ]
  },
  {
   "cell_type": "code",
   "execution_count": 11,
   "metadata": {},
   "outputs": [],
   "source": [
    "#solve(2*ln(x**2-3) < 3-ln(x**2-3)**2, x)"
   ]
  },
  {
   "cell_type": "code",
   "execution_count": 12,
   "metadata": {},
   "outputs": [],
   "source": [
    "#solve(x**4+3*x**3-10*x**2-32*x < 57*x**5-24*x+95, x)"
   ]
  },
  {
   "cell_type": "markdown",
   "metadata": {},
   "source": [
    "# Разлел 2 № 2(1,2); 3; 4;"
   ]
  },
  {
   "cell_type": "markdown",
   "metadata": {},
   "source": [
    "# №2. \n",
    "Сформируйте список из 100 случайных целых чисел от -10 до 10 (функция rand).\n",
    "* Удалите из этого списка все \"дублирующие\" элементы.\n",
    "* Выберите из списка, полученного в (1), все числа, которые делятся на 2 или на 3."
   ]
  },
  {
   "cell_type": "code",
   "execution_count": 13,
   "metadata": {},
   "outputs": [
    {
     "name": "stdout",
     "output_type": "stream",
     "text": [
      "[-6, -3, -8, -9, 5, 1, -7, -8, 10, 5, 4, -6, 2, 0, 5, -1, 2, 6, 8, 3, -10, -3, 7, -2, -9, -7, 6, -5, 1, 2, -9, 0, 9, 7, -1, -7, -1, 9, 2, 2, -3, -3, 4, -8, 4, 1, -8, -9, -3, 1, 0, -6, -4, 3, -3, 6, 6, -9, -9, -5, 4, 3, 7, 3, -6, 9, 9, 9, -6, -5, 4, 2, -6, 2, 7, 3, -2, -8, 2, 7, 0, 9, 1, 2, -5, -9, -3, -3, 3, -7, -2, 3, 8, 8, -2, 2, -3, 7, 0, -6]\n",
      "Тип данных:<class 'list'>\n"
     ]
    }
   ],
   "source": [
    "import random\n",
    "random_list = []\n",
    "for i in range(100):\n",
    "    random_list.append(random.randint(-10, 10))\n",
    "\n",
    "print(random_list)\n",
    "\n",
    "print(\"Тип данных:\" + str(type(random_list)))"
   ]
  },
  {
   "cell_type": "code",
   "execution_count": 14,
   "metadata": {},
   "outputs": [
    {
     "name": "stdout",
     "output_type": "stream",
     "text": [
      "{0, 1, 2, 3, 4, 5, 6, 7, 8, 9, 10, -4, -10, -9, -8, -7, -6, -5, -1, -3, -2}\n",
      "Тип данных:<class 'set'>\n"
     ]
    }
   ],
   "source": [
    "random_set = set(random_list)\n",
    "\n",
    "print(random_set)\n",
    "\n",
    "print(\"Тип данных:\" + str(type(random_set)))"
   ]
  },
  {
   "cell_type": "code",
   "execution_count": 15,
   "metadata": {},
   "outputs": [
    {
     "name": "stdout",
     "output_type": "stream",
     "text": [
      "[-6, -3, -8, -9, -8, 10, 4, -6, 2, 0, 2, 6, 8, 3, -10, -3, -2, -9, 6, 2, -9, 0, 9, 9, 2, 2, -3, -3, 4, -8, 4, -8, -9, -3, 0, -6, -4, 3, -3, 6, 6, -9, -9, 4, 3, 3, -6, 9, 9, 9, -6, 4, 2, -6, 2, 3, -2, -8, 2, 0, 9, 2, -9, -3, -3, 3, -2, 3, 8, 8, -2, 2, -3, 0, -6]\n"
     ]
    }
   ],
   "source": [
    "new_list = []\n",
    "for i in range(len(random_list)):\n",
    "    if random_list[i]%2 == 0 or random_list[i]%3 == 0:\n",
    "        new_list.append(random_list[i])\n",
    "        \n",
    "print(new_list)"
   ]
  },
  {
   "cell_type": "markdown",
   "metadata": {},
   "source": [
    "# №3. \n",
    "Сформируйте матрицу 5×4 с элементами вида $M_{i , j} = \\frac{i}{j}$.  \n",
    "Умножьте эту матрицу на транспонированную к ней.  \n",
    "Вычислите определитель полученной квадратной матрицы."
   ]
  },
  {
   "cell_type": "code",
   "execution_count": 16,
   "metadata": {},
   "outputs": [
    {
     "name": "stdout",
     "output_type": "stream",
     "text": [
      "Матрица М: \n"
     ]
    },
    {
     "data": {
      "text/latex": [
       "$\\displaystyle \\left[\\begin{matrix}1 & \\frac{1}{2} & \\frac{1}{3} & \\frac{1}{4}\\\\2 & 1 & \\frac{2}{3} & \\frac{1}{2}\\\\3 & \\frac{3}{2} & 1 & \\frac{3}{4}\\\\4 & 2 & \\frac{4}{3} & 1\\\\5 & \\frac{5}{2} & \\frac{5}{3} & \\frac{5}{4}\\end{matrix}\\right]$"
      ],
      "text/plain": [
       "⎡1  1/2  1/3  1/4⎤\n",
       "⎢                ⎥\n",
       "⎢2   1   2/3  1/2⎥\n",
       "⎢                ⎥\n",
       "⎢3  3/2   1   3/4⎥\n",
       "⎢                ⎥\n",
       "⎢4   2   4/3   1 ⎥\n",
       "⎢                ⎥\n",
       "⎣5  5/2  5/3  5/4⎦"
      ]
     },
     "metadata": {},
     "output_type": "display_data"
    },
    {
     "name": "stdout",
     "output_type": "stream",
     "text": [
      "Результат умножения на транспонированную: \n"
     ]
    },
    {
     "data": {
      "text/latex": [
       "$\\displaystyle \\left[\\begin{matrix}\\frac{205}{144} & \\frac{205}{72} & \\frac{205}{48} & \\frac{205}{36} & \\frac{1025}{144}\\\\\\frac{205}{72} & \\frac{205}{36} & \\frac{205}{24} & \\frac{205}{18} & \\frac{1025}{72}\\\\\\frac{205}{48} & \\frac{205}{24} & \\frac{205}{16} & \\frac{205}{12} & \\frac{1025}{48}\\\\\\frac{205}{36} & \\frac{205}{18} & \\frac{205}{12} & \\frac{205}{9} & \\frac{1025}{36}\\\\\\frac{1025}{144} & \\frac{1025}{72} & \\frac{1025}{48} & \\frac{1025}{36} & \\frac{5125}{144}\\end{matrix}\\right]$"
      ],
      "text/plain": [
       "⎡205   205   205    205   1025⎤\n",
       "⎢───   ───   ───    ───   ────⎥\n",
       "⎢144    72    48     36   144 ⎥\n",
       "⎢                             ⎥\n",
       "⎢205   205   205    205   1025⎥\n",
       "⎢───   ───   ───    ───   ────⎥\n",
       "⎢ 72    36    24     18    72 ⎥\n",
       "⎢                             ⎥\n",
       "⎢205   205   205    205   1025⎥\n",
       "⎢───   ───   ───    ───   ────⎥\n",
       "⎢ 48    24    16     12    48 ⎥\n",
       "⎢                             ⎥\n",
       "⎢205   205   205          1025⎥\n",
       "⎢───   ───   ───   205/9  ────⎥\n",
       "⎢ 36    18    12           36 ⎥\n",
       "⎢                             ⎥\n",
       "⎢1025  1025  1025  1025   5125⎥\n",
       "⎢────  ────  ────  ────   ────⎥\n",
       "⎣144    72    48    36    144 ⎦"
      ]
     },
     "metadata": {},
     "output_type": "display_data"
    },
    {
     "name": "stdout",
     "output_type": "stream",
     "text": [
      "Определитель полученной матрицы: \n"
     ]
    },
    {
     "data": {
      "image/png": "[encoded data removed]",
      "text/latex": [
       "$\\displaystyle 0$"
      ],
      "text/plain": [
       "0"
      ]
     },
     "metadata": {},
     "output_type": "display_data"
    }
   ],
   "source": [
    "def f(i, j):\n",
    "    return (i+1)/(j+1)\n",
    "M = Matrix(5, 4, f)\n",
    "print(\"Матрица М: \")\n",
    "display(M)\n",
    "print(\"Результат умножения на транспонированную: \")\n",
    "M = M*M.T\n",
    "display(M)\n",
    "print(\"Определитель полученной матрицы: \")\n",
    "display(M.det())"
   ]
  },
  {
   "cell_type": "markdown",
   "metadata": {},
   "source": [
    "# №4.\n",
    "Для системы  \n",
    "$ e_{1} = -x_{1} + 2x_{2} - 3x_{3} = 3 \\\\ \n",
    "e_{2} = 2x_{1} - x_{2} + 2x_{3} = 1  \\\\\n",
    "e_{3} = 2x_{1} - 2x_{2} + 3x_{3} = 2 $\n",
    "\n",
    "сформируйте матрицу системы (команда genmatrix пакета linalg ). Затем воспользуйтесь командами gausselim и backsub для решения системы.  \n",
    "Решите эту же систему с помощью команды solve ."
   ]
  },
  {
   "cell_type": "code",
   "execution_count": 17,
   "metadata": {},
   "outputs": [
    {
     "data": {
      "image/png": "[encoded data removed]",
      "text/latex": [
       "$\\displaystyle \\left\\{\\left( 5, \\  -11, \\  -10\\right)\\right\\}$"
      ],
      "text/plain": [
       "{(5, -11, -10)}"
      ]
     },
     "execution_count": 17,
     "metadata": {},
     "output_type": "execute_result"
    }
   ],
   "source": [
    "from sympy.solvers.solveset import linsolve\n",
    "x1, x2, x3 = symbols('x1 x2 x3')\n",
    "M = Matrix([[-1, 2, -3, 3],[2, -1, 2, 1], [2, -2, 3, 2]])\n",
    "system = A, b = M[:, :-1], M[:, -1]\n",
    "linsolve(system, x1, x2, x3)"
   ]
  },
  {
   "cell_type": "markdown",
   "metadata": {},
   "source": [
    "# Разлел 3.1 № 1(2,4,5);"
   ]
  },
  {
   "cell_type": "markdown",
   "metadata": {},
   "source": [
    "# №1. \n",
    "Задачи суммирования\n",
    "Используйте команды sum и value (или evalf) для вычисления последующих сумм при нескольких увеличивающихся значениях n (например, n = 100,\n",
    "5500, 1000) и, наконец, при n = $ \\infty $. Общий член суммы предварительно опишите с помощью некоторой переменной. Результат вычислений оформите,например, в виде\n",
    "\n",
    "$$ \\sum_{n=1}^{\\infty} \\frac{1}{n^2} = \\frac{\\pi^2}{6}$$\n",
    "\n",
    "Желательно затем привести таблицу полученных приближенных численных\n",
    "значений для разных n.\n",
    "\n",
    "$$ 2) \\sum_{n=1}^{\\infty} \\frac{n}{(n+1)(n+2)(n+3)} $$\n",
    "\n",
    "\n",
    "$$ 4) \\sum_{n=1}^{\\infty} \\frac{2^n+n^2+n}{2^{n+1}n(n+1)} $$\n",
    "\n",
    "\n",
    "$$ 5) \\sum_{n=1}^{\\infty} \\frac{(-1)^{n-1}(2n+1)}{n(n+1)} $$"
   ]
  },
  {
   "cell_type": "code",
   "execution_count": 18,
   "metadata": {},
   "outputs": [
    {
     "data": {
      "image/png": "[encoded data removed]",
      "text/latex": [
       "$\\displaystyle \\sum_{n=1}^{\\infty} \\frac{n}{\\left(n + 1\\right) \\left(n + 2\\right) \\left(n + 3\\right)}$"
      ],
      "text/plain": [
       "  ∞                          \n",
       " ____                        \n",
       " ╲                           \n",
       "  ╲                          \n",
       "   ╲             n           \n",
       "   ╱  ───────────────────────\n",
       "  ╱   (n + 1)⋅(n + 2)⋅(n + 3)\n",
       " ╱                           \n",
       " ‾‾‾‾                        \n",
       "n = 1                        "
      ]
     },
     "metadata": {},
     "output_type": "display_data"
    },
    {
     "data": {
      "image/png": "[encoded data removed]",
      "text/latex": [
       "$\\displaystyle 0.25$"
      ],
      "text/plain": [
       "0.250000000000000"
      ]
     },
     "execution_count": 18,
     "metadata": {},
     "output_type": "execute_result"
    }
   ],
   "source": [
    "n = Symbol('n')\n",
    "D = n/((n+1)*(n+2)*(n+3))\n",
    "display(Sum(D,(n,1,oo)))\n",
    "Sum(D,(n,1,oo)).evalf()"
   ]
  },
  {
   "cell_type": "code",
   "execution_count": 19,
   "metadata": {},
   "outputs": [
    {
     "data": {
      "image/png": "[encoded data removed]",
      "text/latex": [
       "$\\displaystyle \\sum_{n=1}^{\\infty} \\frac{2^{- n - 1} \\left(2^{n} + n^{2} + n\\right)}{n \\left(n + 1\\right)}$"
      ],
      "text/plain": [
       "  ∞                        \n",
       " ____                      \n",
       " ╲                         \n",
       "  ╲    -n - 1 ⎛ n    2    ⎞\n",
       "   ╲  2      ⋅⎝2  + n  + n⎠\n",
       "   ╱  ─────────────────────\n",
       "  ╱         n⋅(n + 1)      \n",
       " ╱                         \n",
       " ‾‾‾‾                      \n",
       "n = 1                      "
      ]
     },
     "metadata": {},
     "output_type": "display_data"
    },
    {
     "data": {
      "image/png": "[encoded data removed]",
      "text/latex": [
       "$\\displaystyle 1.0$"
      ],
      "text/plain": [
       "1.00000000000000"
      ]
     },
     "execution_count": 19,
     "metadata": {},
     "output_type": "execute_result"
    }
   ],
   "source": [
    "D = (2**n+n**2+n)/(2**(n+1)*n*(n+1))\n",
    "display(Sum(D,(n,1,oo)))\n",
    "Sum(D,(n,1,oo)).evalf()"
   ]
  },
  {
   "cell_type": "code",
   "execution_count": 20,
   "metadata": {},
   "outputs": [
    {
     "data": {
      "image/png": "[encoded data removed]",
      "text/latex": [
       "$\\displaystyle \\sum_{n=1}^{\\infty} \\frac{\\left(-1\\right)^{n - 1} \\left(2 n + 1\\right)}{n \\left(n + 1\\right)}$"
      ],
      "text/plain": [
       "  ∞                      \n",
       " ____                    \n",
       " ╲                       \n",
       "  ╲       n - 1          \n",
       "   ╲  (-1)     ⋅(2⋅n + 1)\n",
       "   ╱  ───────────────────\n",
       "  ╱        n⋅(n + 1)     \n",
       " ╱                       \n",
       " ‾‾‾‾                    \n",
       "n = 1                    "
      ]
     },
     "metadata": {},
     "output_type": "display_data"
    },
    {
     "data": {
      "image/png": "[encoded data removed]",
      "text/latex": [
       "$\\displaystyle 1.0$"
      ],
      "text/plain": [
       "1.00000000000000"
      ]
     },
     "execution_count": 20,
     "metadata": {},
     "output_type": "execute_result"
    }
   ],
   "source": [
    "D = ((-1)**(n-1)*(2*n+1))/(n*(n+1))\n",
    "display(Sum(D,(n,1,oo)))\n",
    "Sum(D,(n,1,oo)).evalf()"
   ]
  },
  {
   "cell_type": "markdown",
   "metadata": {},
   "source": [
    "# Разлел 3.2 № 1(2,4,5);"
   ]
  },
  {
   "cell_type": "markdown",
   "metadata": {},
   "source": [
    "# №1. \n",
    "Найдите пределы, используя Limit, и воспроизведите задачу, записав сначала исходную формулу для предела, потом знак равенства, а затем значение предела. Затем воспользуйтесь каким-нибудь другим методом, чтобы проверить ответ, полученный вами для предела, например, используйте правило Лопиталя, постройте график, вычислите последовательность значений, сходящихся к предельному значению, и т.д.\n",
    "Для задач, содержащих символы вроде \"a\" или \"b\", выясните случаи, для которых пределы существуют, и случаи, для которых предел не существует.\n",
    "\n",
    "$$ 2) \\lim_{x\\to0} = \\frac{ln(cos(ax))}{ln(cos(bx))}$$\n",
    "\n",
    "\n",
    "$$ 9) \\lim_{x\\to0} = \\frac{1-cos(x^2)}{x^2sin(x^2)}$$\n",
    "\n",
    "\n",
    "$$ 17) \\lim_{x\\to\\infty-} = \\frac{a^x}{x^b}$$"
   ]
  },
  {
   "cell_type": "code",
   "execution_count": 21,
   "metadata": {},
   "outputs": [
    {
     "data": {
      "image/png": "[encoded data removed]",
      "text/latex": [
       "$\\displaystyle \\frac{a^{2}}{b^{2}}$"
      ],
      "text/plain": [
       " 2\n",
       "a \n",
       "──\n",
       " 2\n",
       "b "
      ]
     },
     "execution_count": 21,
     "metadata": {},
     "output_type": "execute_result"
    }
   ],
   "source": [
    "a, b = symbols('a b')\n",
    "limit(ln(cos(a*x))/ln(cos(b*x)), x, 0)"
   ]
  },
  {
   "cell_type": "code",
   "execution_count": 22,
   "metadata": {},
   "outputs": [
    {
     "data": {
      "image/png": "[encoded data removed]",
      "text/latex": [
       "$\\displaystyle 0$"
      ],
      "text/plain": [
       "0"
      ]
     },
     "execution_count": 22,
     "metadata": {},
     "output_type": "execute_result"
    }
   ],
   "source": [
    "limit((1-cos(x**2))/x**2*sin(x**2), x, 0)"
   ]
  },
  {
   "cell_type": "code",
   "execution_count": 23,
   "metadata": {},
   "outputs": [],
   "source": [
    "#limit(a**x/x**b, x, oo, '-')"
   ]
  },
  {
   "cell_type": "markdown",
   "metadata": {},
   "source": [
    "# Разлел 3.3 № 1(3,4); 2(4,5); 4(5,8,9);"
   ]
  },
  {
   "cell_type": "markdown",
   "metadata": {},
   "source": [
    "## №1. \n",
    "Используйте команды leftbox, middlebox, rightbox, leftsum, middlesum, rightsum вместе с limit, int, Int, evalf, чтобы исследовать интегралы от некоторых функций на заданном интервале. Например, постройте график,используя некоторое значение n (числа прямоугольников), которое даст разумное приближение к значению, получаемому с помощью int. Воспользуйтесь также для каждого из интегралов формулами трапеций и Симпсона (попробуйте несколько разумных значений n).\n",
    "\n",
    "$$ 3)  x^2sin(\\frac{1}{x}), 0 < x < 1 $$\n",
    "\n",
    "\n",
    "$$ 4)  xsin(\\frac{1}{x^2}), 0 < x < 1 $$"
   ]
  },
  {
   "cell_type": "code",
   "execution_count": 24,
   "metadata": {},
   "outputs": [
    {
     "data": {
      "image/png": "[encoded data removed]",
      "text/latex": [
       "$\\displaystyle \\frac{\\operatorname{Ci}{\\left(1 \\right)}}{6} + \\frac{\\cos{\\left(1 \\right)}}{6} + \\frac{\\sin{\\left(1 \\right)}}{6}$"
      ],
      "text/plain": [
       "Ci(1)   cos(1)   sin(1)\n",
       "───── + ────── + ──────\n",
       "  6       6        6   "
      ]
     },
     "metadata": {},
     "output_type": "display_data"
    },
    {
     "data": {
      "image/png": "[encoded data removed]",
      "text/latex": [
       "$\\displaystyle 0.286529535596167$"
      ],
      "text/plain": [
       "0.286529535596167"
      ]
     },
     "execution_count": 24,
     "metadata": {},
     "output_type": "execute_result"
    }
   ],
   "source": [
    "display(integrate(x**2*sin(1/x), (x, 0, 1)))\n",
    "integrate(x**2*sin(1/x), (x, 0, 1)).evalf()"
   ]
  },
  {
   "cell_type": "code",
   "execution_count": 25,
   "metadata": {},
   "outputs": [
    {
     "data": {
      "image/png": "[encoded data removed]",
      "text/latex": [
       "$\\displaystyle - \\frac{\\operatorname{Ci}{\\left(1 \\right)}}{2} + \\frac{\\sin{\\left(1 \\right)}}{2}$"
      ],
      "text/plain": [
       "  Ci(1)   sin(1)\n",
       "- ───── + ──────\n",
       "    2       2   "
      ]
     },
     "metadata": {},
     "output_type": "display_data"
    },
    {
     "data": {
      "image/png": "[encoded data removed]",
      "text/latex": [
       "$\\displaystyle 0.252033530953464$"
      ],
      "text/plain": [
       "0.252033530953464"
      ]
     },
     "execution_count": 25,
     "metadata": {},
     "output_type": "execute_result"
    }
   ],
   "source": [
    "display(integrate(x*sin(1/x**2), (x, 0, 1)))\n",
    "integrate(x*sin(1/x**2), (x, 0, 1)).evalf()"
   ]
  },
  {
   "cell_type": "markdown",
   "metadata": {},
   "source": [
    "## 2\n",
    "Найдите точки пересечения кривых и вычислите площадь, ограниченную\n",
    "кривыми.\n",
    "\n",
    "$$4) y = sin(x)**2, y y = sin ( x ) 2 , y = 0 , x = 0 , x = π ;$$\n",
    "$$5) $$"
   ]
  },
  {
   "cell_type": "code",
   "execution_count": null,
   "metadata": {},
   "outputs": [],
   "source": []
  },
  {
   "cell_type": "code",
   "execution_count": null,
   "metadata": {},
   "outputs": [],
   "source": []
  },
  {
   "cell_type": "code",
   "execution_count": null,
   "metadata": {},
   "outputs": [],
   "source": []
  }
 ],
 "metadata": {
  "kernelspec": {
   "display_name": "Python 3",
   "language": "python",
   "name": "python3"
  },
  "language_info": {
   "codemirror_mode": {
    "name": "ipython",
    "version": 3
   },
   "file_extension": ".py",
   "mimetype": "text/x-python",
   "name": "python",
   "nbconvert_exporter": "python",
   "pygments_lexer": "ipython3",
   "version": "3.7.6"
  }
 },
 "nbformat": 4,
 "nbformat_minor": 2
}
